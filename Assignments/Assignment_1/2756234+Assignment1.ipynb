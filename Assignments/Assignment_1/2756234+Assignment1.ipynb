{
 "cells": [
  {
   "cell_type": "markdown",
   "metadata": {},
   "source": [
    "# Knowledge and Data: Practical Assignment 1 \n",
    "## Manipulate Propositional Logic and Simple Knowledge Graph Logic"
   ]
  },
  {
   "cell_type": "markdown",
   "metadata": {},
   "source": [
    "- YOUR NAME: Mahbod Tajdini\n",
    "\n",
    "- YOUR VUNetID: mta266\n",
    "\n",
    "*(If you do not provide your NAME and VUNetID we will not accept your submission.)*"
   ]
  },
  {
   "cell_type": "markdown",
   "metadata": {},
   "source": [
    "### Learning objectives"
   ]
  },
  {
   "cell_type": "markdown",
   "metadata": {},
   "source": [
    "At the end of this exercise you should be able to perform some simple manipulations of two different formal systems: \n",
    "1. You will be able to transform Propositional Logic statements from one syntactic form to semantically equivalent  alternative representation.\n",
    "2. You will be able to evaluate a Propositional Logic statements given some validation of the propositional variables. \n",
    "3. You will be able to transform one Knowledge Graph into an equivalent one with a different Syntax \n",
    "4. You will be able to calculate simple entailment between two Knowledge Graph"
   ]
  },
  {
   "cell_type": "markdown",
   "metadata": {},
   "source": [
    "### Practicalities"
   ]
  },
  {
   "cell_type": "markdown",
   "metadata": {},
   "source": [
    "Follow this Notebook step-by-step. Some of the exercises are already \n",
    "fully filled in to give you some examples of how to do things. Others are\n",
    "partially filled, and require you to fill in some gaps. And others, you \n",
    "will have to fully program yourself. \n",
    "\n",
    "Of course, you can do the exercises in any Programming Editor of your liking. \n",
    "But you do not have to. Feel free to simply write code in the Notebook. When \n",
    "everythink is filled in and works, save the Notebook and submit it \n",
    "as a Jupyter Notebook (i.e. with an ipynb extension). **Please use as name of the \n",
    "Notebook your studentID+Assignment1.ipynb**.  \n",
    "\n",
    "We will not evaluate the programming style of your solutions. Yet we do look whether your solutions suggests an understanding, and whether they yield the correct output. \n",
    "\n",
    "Note that all notebooks will automatically be checked for plagiarism: while similar answers can be expected, it is not allowed to directly copy the solutions from fellow students or TAs, or from the examples discussed during the lectures. Similarly, sharing your solutions with your peers is not allowed."
   ]
  },
  {
   "cell_type": "markdown",
   "metadata": {},
   "source": [
    "## Exercises related to Propositional Logic "
   ]
  },
  {
   "cell_type": "markdown",
   "metadata": {},
   "source": [
    "We will use a very simple, though crude and ugly, representation for Propositional Logic: Propositions are strings, and formulas are lists, starting with an operator as first element in the list, and the subformulas as second and (if appropriate) third argument. (Note that this is slightly different than the definition in the lecture, where Propositions are lists with one argument). These are formulas in Prefix Notation.\n",
    "\n",
    "In the file, there is one formula per line. \n",
    "\n",
    "For simplicity, we will only consider formulas with any of the three variables P, Q and R, and binary operators \">> (implies), & (and), | (or)\" and \"~ (not)\". "
   ]
  },
  {
   "cell_type": "markdown",
   "metadata": {},
   "source": [
    "Here are some formulas as examples.\n",
    "\n",
    "(~R & P) >> Q\n",
    "\n",
    "~(((P | ~Q) >> R) >> (P & R)) \n",
    "\n",
    "~(P >> Q) | (R >> P) \n",
    "\n",
    "(P >> Q) | (Q >> ~P)\n"
   ]
  },
  {
   "cell_type": "markdown",
   "metadata": {},
   "source": [
    "The first thing you will have to do is to open the file. The code below will read every line of the file into a list called *content*.\n",
    "\n",
    "Do *not* forget to run the following cell, otherwise, the file will not be opened. import os \n"
   ]
  },
  {
   "cell_type": "code",
   "execution_count": 761,
   "metadata": {},
   "outputs": [],
   "source": [
    "import os \n",
    "from logic import *"
   ]
  },
  {
   "cell_type": "code",
   "execution_count": 762,
   "metadata": {},
   "outputs": [
    {
     "name": "stdout",
     "output_type": "stream",
     "text": [
      "D:\\Uni\\AI\\Year 2\\Knowledge and Data\\knowledge-data-vu\\Assignments\\Assignment_1\\PLknowledgebase.txt\n",
      "['(~R & P) >> Q\\n', '~(((P | ~Q) >> R) >> (P & R)) \\n', '~(P >> Q) | (R >> P) \\n', '(P >> Q) | (Q >> ~P)']\n"
     ]
    }
   ],
   "source": [
    "fileDir = os.path.dirname(os.path.realpath('__file__'))\n",
    "filename = os.path.join(fileDir, 'PLknowledgebase.txt')\n",
    "print(filename)\n",
    "with open(filename) as file:\n",
    "    content = file.readlines()\n",
    "     \n",
    "print(content)"
   ]
  },
  {
   "cell_type": "code",
   "execution_count": 763,
   "metadata": {},
   "outputs": [
    {
     "name": "stdout",
     "output_type": "stream",
     "text": [
      "\n",
      "(¬R ^ P) => Q\n",
      "False\n",
      "<class 'logic.Implies'>\n",
      "¬R ^ P\n",
      "\n",
      "¬(((P v ¬Q) => R) => (P ^ R))\n",
      "False\n",
      "<class 'logic.Not'>\n",
      "((P v ¬Q) => R) => (P ^ R)\n",
      "\n",
      "¬(P => Q) v (R => P)\n",
      "False\n",
      "<class 'logic.Or'>\n",
      "¬(P => Q)\n",
      "\n",
      "(P => Q) v (Q => ¬P)\n",
      "True\n",
      "<class 'logic.Or'>\n",
      "P => Q\n"
     ]
    }
   ],
   "source": [
    "P, Q, R = vars('P', 'Q', 'R')\n",
    "\n",
    "for line in content:\n",
    "    formula = eval(line.strip())\n",
    "    print()\n",
    "    print(formula)\n",
    "    print(formula.is_tautology())\n",
    "    print(type(formula))\n",
    "    print(formula.children[0])"
   ]
  },
  {
   "cell_type": "markdown",
   "metadata": {},
   "source": [
    "The last procedure makes use of the inbuilt properties of the logic package. Let us do similar stuff ourselves. \n",
    "\n",
    "### Task 1: (10 Points) Complete the procedure *prefix* that transforms the formula into Prefix notation, i.e., the operator \"sits\" in front of the two arguments.\n",
    "\n",
    "Use different symbols for the prefix operators: IMP for implication, AND for conjunction, OR for disjunction and NEG for negation. Look at the previous examples if you are unsure how to continue."
   ]
  },
  {
   "cell_type": "code",
   "execution_count": 764,
   "metadata": {},
   "outputs": [],
   "source": [
    "def prefix(s):\n",
    "    if type(s) is Or:\n",
    "        child1 = s.children[0]\n",
    "        child2 = s.children[1]\n",
    "        string = \"OR(\" + prefix(child1) + \",\" + prefix(child2) + \")\";\n",
    "        return string\n",
    "    if type(s) is Implies:\n",
    "        child1 = s.children[0]\n",
    "        child2 = s.children[1]\n",
    "        string = \"IMP(\" + prefix(child1) + \",\" + prefix(child2) + \")\";\n",
    "        return string\n",
    "    if type(s) is And:\n",
    "        child1 = s.children[0]\n",
    "        child2 = s.children[1]\n",
    "        string = \"AND(\" + prefix(child1) + \",\" + prefix(child2) + \")\";\n",
    "        return string\n",
    "    if type(s) is Not:\n",
    "        child1 = s.children[0]\n",
    "        string = \"NEG(\" + prefix(child1) + \")\";\n",
    "        return string\n",
    "\n",
    "    else:\n",
    "        return str(s)"
   ]
  },
  {
   "cell_type": "markdown",
   "metadata": {},
   "source": [
    "Execute the following line of code to check whether your procedure works correctly or not."
   ]
  },
  {
   "cell_type": "code",
   "execution_count": 765,
   "metadata": {},
   "outputs": [
    {
     "name": "stdout",
     "output_type": "stream",
     "text": [
      "(¬R ^ P) => Q                 == IMP(AND(NEG(R),P),Q)\n",
      "¬(((P v ¬Q) => R) => (P ^ R)) == NEG(IMP(IMP(OR(P,NEG(Q)),R),AND(P,R)))\n",
      "¬(P => Q) v (R => P)          == OR(NEG(IMP(P,Q)),IMP(R,P))\n",
      "(P => Q) v (Q => ¬P)          == OR(IMP(P,Q),IMP(Q,NEG(P)))\n"
     ]
    }
   ],
   "source": [
    "for line in content:\n",
    "    formula = eval(line.strip())\n",
    "    spacing = 30 - len(str(formula))\n",
    "    print(str(formula) + \" \"*spacing + \"== \" + prefix(formula))"
   ]
  },
  {
   "cell_type": "markdown",
   "metadata": {},
   "source": [
    "If you run your procedure on the input data, you should get something like the following output: \n",
    "\n",
    "    (¬R ^ P) => Q                 == IMP(AND(NEG(R),P),Q)\n",
    "    ¬(((P v ¬Q) => R) => (P ^ R)) == NEG(IMP(IMP(OR(P,NEG(Q)),R),AND(P,R)))\n",
    "    ¬(P => Q) v (R => P)          == OR(NEG(IMP(P,Q)),IMP(R,P))\n",
    "    (P => Q) v (Q => ¬P)          == OR(IMP(P,Q),IMP(Q,NEG(P)))"
   ]
  },
  {
   "cell_type": "markdown",
   "metadata": {},
   "source": [
    "### Task 2: (20 Points) Write a procedure *evaluate* that calculates the truth value of a formula. \n",
    "\n",
    "Input to the procedure is the formula _s_, and the three truth values for variable P, Q and R. \n",
    "\n",
    "This is a procedural way to implement the \"meaning\" of the operators (which you can read from the Truth Tables)"
   ]
  },
  {
   "cell_type": "code",
   "execution_count": 766,
   "metadata": {},
   "outputs": [],
   "source": [
    "def evaluate(s, p, q, r):\n",
    "    if type(s) is Or:\n",
    "        child1 = s.children[0]\n",
    "        child2 = s.children[1]\n",
    "        if (evaluate(child1,p,q,r) is True) or (evaluate(child2,p,q,r) is True):\n",
    "            return True\n",
    "        elif (evaluate(child1,p,q,r) is False) or (evaluate(child2,p,q,r) is False):\n",
    "            return False\n",
    "        elif (evaluate(child1,p,q,r) is False) or (evaluate(child2,p,q,r) is True):\n",
    "            return True\n",
    "        elif (evaluate(child1,p,q,r) is True) or (evaluate(child2,p,q,r) is False):\n",
    "            return True\n",
    "        \n",
    "    elif type(s) is Implies:\n",
    "        child1 = s.children[0]\n",
    "        child2 = s.children[1]\n",
    "        if (evaluate(child1,p,q,r) is False) and (evaluate(child2,p,q,r) is True):\n",
    "            return True   \n",
    "        elif (evaluate(child1,p,q,r) is False) and (evaluate(child2,p,q,r) is False):\n",
    "            return True\n",
    "        elif (evaluate(child1,p,q,r) is True) and (evaluate(child2,p,q,r) is True):\n",
    "            return True\n",
    "        elif (evaluate(child1,p,q,r) is True) and (evaluate(child2,p,q,r) is False):\n",
    "            return False\n",
    "        \n",
    "    elif type(s) is And:\n",
    "        child1 = s.children[0]\n",
    "        child2 = s.children[1]\n",
    "        if (evaluate(child1,p,q,r) is False) and (evaluate(child2,p,q,r) is True):\n",
    "            return False   \n",
    "        elif (evaluate(child1,p,q,r) is False) and (evaluate(child2,p,q,r) is False):\n",
    "            return False\n",
    "        elif (evaluate(child1,p,q,r) is True) and (evaluate(child2,p,q,r) is True):\n",
    "            return True\n",
    "        elif (evaluate(child1,p,q,r) is  True) and (evaluate(child2,p,q,r) is False):\n",
    "            return False\n",
    "        \n",
    "    elif type(s) is Not:\n",
    "        child1 = s.children[0]\n",
    "        if (evaluate(child1,p,q,r) is True):\n",
    "            return False\n",
    "        else:\n",
    "            return True\n",
    "\n",
    "    elif type(s) is Variable:        \n",
    "        if str(s) == 'P':\n",
    "            return p\n",
    "        if str(s) == 'R':\n",
    "            return r\n",
    "        if str(s) == 'Q':\n",
    "            return q\n",
    "    else:\n",
    "        print(\"Something went wrong\") "
   ]
  },
  {
   "cell_type": "markdown",
   "metadata": {},
   "source": [
    "Execute the following line of code to check whether your procedure works correctly or not."
   ]
  },
  {
   "cell_type": "code",
   "execution_count": 767,
   "metadata": {},
   "outputs": [
    {
     "name": "stdout",
     "output_type": "stream",
     "text": [
      "(~R & P) >> Q                 True\n",
      "~(((P | ~Q) >> R) >> (P & R)) False\n",
      "~(P >> Q) | (R >> P)          True\n",
      "(P >> Q) | (Q >> ~P)          True\n"
     ]
    }
   ],
   "source": [
    "for l in content:\n",
    "    formula = l.strip()\n",
    "    spacing = 30 - len(str(formula))\n",
    "    print(str(formula) + \" \"*spacing + str(evaluate(s=eval(formula), p=True, q=True, r=False)))"
   ]
  },
  {
   "cell_type": "markdown",
   "metadata": {},
   "source": [
    "If you run your program on the given input, you should get an answer like this:\n",
    "\n",
    "    (~R & P) >> Q                 True\n",
    "    ~(((P | ~Q) >> R) >> (P & R)) False\n",
    "    ~(P >> Q) | (R >> P)          True\n",
    "    (P >> Q) | (Q >> ~P)          True"
   ]
  },
  {
   "cell_type": "markdown",
   "metadata": {},
   "source": [
    "### Task 3: (10 Points) Write a procedure *tautology* that calculates whether a given formula (with maximally three variables P,Q and R) is a tautology \n",
    "Hint: Use the *evaluate* function you just wrote and implement a \"truthtable\" approach whether the formula is always evaluated as \"true\". Do *not* use the 'is_tautology' method seen earlier."
   ]
  },
  {
   "cell_type": "code",
   "execution_count": 768,
   "metadata": {},
   "outputs": [],
   "source": [
    "def tautology(s):\n",
    "    trial1 = evaluate(s, p = True, q = True, r = True)\n",
    "    trial2 = evaluate(s, p = True, q = True, r = False)\n",
    "    trial3 = evaluate(s, p = True, q = False, r = True)\n",
    "    trial4 = evaluate(s, p = True, q = False, r = False)\n",
    "    trial5 = evaluate(s, p = False, q = True, r = True)\n",
    "    trial6 = evaluate(s, p = False, q = True, r = False)\n",
    "    trial7 = evaluate(s, p = False, q = False, r = True)\n",
    "    trial8 = evaluate(s, p = False, q = False, r = False)\n",
    "\n",
    "\n",
    "    if (trial1 and trial2 and trial3 and trial4 and trial5 and trial6 and trial7 and trial8) == True:\n",
    "        return True\n",
    "    else:\n",
    "        return False"
   ]
  },
  {
   "cell_type": "markdown",
   "metadata": {},
   "source": [
    "Execute the following line of code to check whether your procedure works correctly or not."
   ]
  },
  {
   "cell_type": "code",
   "execution_count": 769,
   "metadata": {},
   "outputs": [
    {
     "name": "stdout",
     "output_type": "stream",
     "text": [
      "Formula                       Tautology\n",
      "(~R & P) >> Q                 False\n",
      "~(((P | ~Q) >> R) >> (P & R)) False\n",
      "~(P >> Q) | (R >> P)          False\n",
      "(P >> Q) | (Q >> ~P)          True\n"
     ]
    }
   ],
   "source": [
    "print(\"Formula\" + 23*\" \" + \"Tautology\")\n",
    "for l in content:\n",
    "    formula = l.strip()\n",
    "    spacing = 30 - len(str(formula))\n",
    "    print(str(formula) + \" \"*spacing + (repr(tautology(eval(formula)))))"
   ]
  },
  {
   "cell_type": "markdown",
   "metadata": {},
   "source": [
    "When you evaluate your code on the provided input, you should get something like this:\n",
    "\n",
    "    Formula                       Tautology\n",
    "    (~R & P) >> Q                 False\n",
    "    ~(((P | ~Q) >> R) >> (P & R)) False\n",
    "    ~(P >> Q) | (R >> P)          False\n",
    "    (P >> Q) | (Q >> ~P)          True"
   ]
  },
  {
   "cell_type": "markdown",
   "metadata": {},
   "source": [
    "## Exercises related to Simple Knowledge Graph Logic "
   ]
  },
  {
   "cell_type": "markdown",
   "metadata": {},
   "source": [
    "We will use a very simple, though crude and ugly, representation for Simple Knowledge Graph Logic: Resources are strings, and triples are lists of Resources. So, a triple ( s p o ) will be represented as a list [s,p,o], and a Knowledge Graph with two triples (s1, p1, o1) and (s2, p2, o2) as a list containing two lists: [[s1,p1,o1], [s2,p2,o2]].\n",
    "\n",
    "Every line contains a knowledge graph (one list). \n",
    "\n",
    "Run the following code to load the Knowledge Graph in knowledgegraph.txt"
   ]
  },
  {
   "cell_type": "code",
   "execution_count": 770,
   "metadata": {},
   "outputs": [],
   "source": [
    "import os \n",
    "fileDir = os.path.dirname(os.path.realpath('__file__'))\n",
    "filename = os.path.join(fileDir, 'knowledgegraph.txt')\n",
    "with open(filename) as file:\n",
    "    content = [[t for t in eval(g)] for g in file.readlines()]"
   ]
  },
  {
   "cell_type": "markdown",
   "metadata": {},
   "source": [
    "Maybe you want to write a function to print this graph for convenience ... (no extra points, though) "
   ]
  },
  {
   "cell_type": "code",
   "execution_count": null,
   "metadata": {},
   "outputs": [],
   "source": []
  },
  {
   "cell_type": "markdown",
   "metadata": {},
   "source": [
    "The next two exercises are about syntactic transformation of Knowledge Graphs. The two target formats are simplified versions of syntaxes for the language RDF that we will introduce later. \n",
    "\n",
    "### Task 4a: (10 Points) Write a procedure to transform the Knowledge Graphs into N-triple syntax. \n",
    "N-triple is a simple (the most simple?) representation format for representing Knowledge Graphs. \n",
    "\n",
    "A triple (s,p,o) is simply written as as follows:\n",
    "\n",
    "     <s> <p> <o> . \n",
    "     \n",
    "As one string, with blanks between s,p and o, with < and > around the variables, and a dot after the triple. \n",
    "\n",
    "First, write a function that transforms a triple ['s','p','o'] into a single string \"\\<s> \\<p> \\<o> .\""
   ]
  },
  {
   "cell_type": "code",
   "execution_count": 771,
   "metadata": {},
   "outputs": [],
   "source": [
    "def as_ntriple(triple):\n",
    "    \"\"\"Converts a triple to an N-Triple string.\"\"\"\n",
    "    formatted_triple = \" \".join([f\"<{char}>\" for char in triple]) + \" .\"\n",
    "    return formatted_triple \n",
    "\n",
    "# # #testing the func\n",
    "# test = [\"s\", \"p\", \"o\"]\n",
    "# print(type(as_ntriple(test)))\n",
    "# print((as_ntriple(test)))"
   ]
  },
  {
   "cell_type": "code",
   "execution_count": 772,
   "metadata": {},
   "outputs": [],
   "source": [
    "def as_ntriples(graph):\n",
    "    lst = list()\n",
    "    for all_triples in graph:\n",
    "        lst.append(as_ntriple(all_triples))\n",
    "    return lst"
   ]
  },
  {
   "cell_type": "markdown",
   "metadata": {},
   "source": [
    "Execute the following line of code to check whether your procedure works correctly or not."
   ]
  },
  {
   "cell_type": "code",
   "execution_count": 773,
   "metadata": {},
   "outputs": [
    {
     "name": "stdout",
     "output_type": "stream",
     "text": [
      "['<s> <p> <o> .', '<s> <p1> <o2> .', '<s2> <p2> <o> .']\n",
      "['<Netherlands> <name> <\"Netherlands\"> .', '<Netherlands> <has_capital> <Amsterdam> .', '<Amsterdam> <type> <Capital> .']\n",
      "['<Netherlands> <name> <\"Netherlands\"> .', '<Netherlands> <has_capital> <Amsterdam> .', '<Amsterdam> <type> <Capital> .', '<Capital> <type> <City> .', '<Netherlands> <neighbours> <Belgium> .', '<Netherlands> <type> <Country> .']\n"
     ]
    }
   ],
   "source": [
    "for graph in content:\n",
    "     print(as_ntriples(graph))"
   ]
  },
  {
   "cell_type": "markdown",
   "metadata": {},
   "source": [
    "Your answer should look like this: <br />\n",
    "['\\<s> \\<p> \\<o> .', '\\<s> \\<p1> \\<o2> .', '\\<s2> \\<p2> \\<o> .']<br/>\n",
    "['\\<Netherlands> \\<name> \\<\"Netherlands\"> .', '\\<Netherlands> \\<has_capital> \\<Amsterdam> .', '\\<Amsterdam> \\<type> \\<Capital> .']<br/>\n",
    "['\\<Netherlands> \\<name> \\<\"Netherlands\"> .', '\\<Netherlands> \\<has_capital> \\<Amsterdam> .', '\\<Amsterdam> \\<type> \\<Capital> .', '\\<Capital> \\<type> \\<City> .', '\\<Netherlands> \\<neighbours> \\<Belgium> .', '\\<Netherlands> \\<type> \\<Country> .']"
   ]
  },
  {
   "cell_type": "markdown",
   "metadata": {},
   "source": [
    "### Task 4b (10 Points) Adjust your procedure to cope with literal objects\n",
    "\n",
    "In reality, the N-triples format specifies that only objects must be embedded between angled brackets; literal values, such as strings and numbers, are to be represented as string values, for example \"\\<s> \\<p> \\\"12\\\" .\". Since knowledge graphs are construced with an object-centric language (RDF), we only have to consider the last element of a triple.\n",
    "\n",
    "Redefine the function _as\\_triple_ to make it output valid N-triples."
   ]
  },
  {
   "cell_type": "code",
   "execution_count": 774,
   "metadata": {},
   "outputs": [],
   "source": [
    "import re\n",
    "def as_ntriple(triple):    \n",
    "    entity_1, entity_2, entity_3 = triple\n",
    "\n",
    "    if re.match(r'^\"(.*)\"$', entity_3):\n",
    "        new_entity_3 = f'{entity_3}'\n",
    "    else:\n",
    "        new_entity_3 = f\"<{entity_3}>\"\n",
    "        \n",
    "    return \"<{}> <{}> {} .\".format(entity_1, entity_2, new_entity_3)"
   ]
  },
  {
   "cell_type": "markdown",
   "metadata": {},
   "source": [
    "Execute the following line of code to check whether your procedure works correctly or not."
   ]
  },
  {
   "cell_type": "code",
   "execution_count": 775,
   "metadata": {},
   "outputs": [
    {
     "name": "stdout",
     "output_type": "stream",
     "text": [
      "['<s> <p> <o> .', '<s> <p1> <o2> .', '<s2> <p2> <o> .']\n",
      "['<Netherlands> <name> \"Netherlands\" .', '<Netherlands> <has_capital> <Amsterdam> .', '<Amsterdam> <type> <Capital> .']\n",
      "['<Netherlands> <name> \"Netherlands\" .', '<Netherlands> <has_capital> <Amsterdam> .', '<Amsterdam> <type> <Capital> .', '<Capital> <type> <City> .', '<Netherlands> <neighbours> <Belgium> .', '<Netherlands> <type> <Country> .']\n"
     ]
    }
   ],
   "source": [
    "for graph in content:\n",
    "     print(as_ntriples(graph))"
   ]
  },
  {
   "cell_type": "markdown",
   "metadata": {},
   "source": [
    "Your answer should look like this: <br />\n",
    "['\\<s> \\<p> \\<o> .', '\\<s> \\<p1> \\<o2> .', '\\<s2> \\<p2> \\<o> .']<br/>\n",
    "['\\<Netherlands> \\<name> \"Netherlands\" .', '\\<Netherlands> \\<has_capital> \\<Amsterdam> .', '\\<Amsterdam> \\<type> \\<Capital> .']<br/>\n",
    "['\\<Netherlands> \\<name> \"Netherlands\" .', '\\<Netherlands> \\<has_capital> \\<Amsterdam> .', '\\<Amsterdam> \\<type> \\<Capital> .', '\\<Capital> \\<type> \\<City> .', '\\<Netherlands> \\<neighbours> \\<Belgium> .', '\\<Netherlands> \\<type> \\<Country> .']"
   ]
  },
  {
   "cell_type": "markdown",
   "metadata": {},
   "source": [
    "### Task 5: (20 Points) Write a procedure to evaluate whether a Triple (s p o) is entailed by your Knowledge Graph\n",
    "\n",
    "Remember that we can calculate whether a triple is entailed by a Knowledge Graph (w.r.t Simple Knowledge Graph Logic) by simply checking whether the triple is part of the knowledge graph.  \n",
    "\n",
    "The triples, on which you can test your implementations are located in the file: *entailedTriples.txt*. You need to open the file and check for all triples whether it is entailed by the knowledge graphs in knowledgegraph.txt (which is already opened). Hint: you can use *eval* to convert a raw string to a list.\n",
    "\n",
    "You might want to add auxiliary functions in extra cells if necessary."
   ]
  },
  {
   "cell_type": "code",
   "execution_count": 776,
   "metadata": {},
   "outputs": [],
   "source": [
    "def tripleEntail():\n",
    "    filename = os.path.join(fileDir, 'knowledgegraph.txt')\n",
    "    with open(filename) as file:\n",
    "        content = [[t for t in eval(g)] for g in file.readlines()]\n",
    "        \n",
    "    filename_ = os.path.join(fileDir, 'entailedTriples.txt')\n",
    "    with open(filename_) as file:\n",
    "        content_ = [[t for t in eval(g)] for g in file.readlines()]\n",
    "        \n",
    "    return content_, content"
   ]
  },
  {
   "cell_type": "markdown",
   "metadata": {},
   "source": [
    "Provide some code to check that your function works correctly.  "
   ]
  },
  {
   "cell_type": "code",
   "execution_count": 777,
   "metadata": {},
   "outputs": [
    {
     "name": "stdout",
     "output_type": "stream",
     "text": [
      "[['s', 'p', 'o'], ['s', 'p1', 'o2'], ['s2', 'p2', 'o']] entails ['s2', 'p2', 'o']\n",
      "[['s', 'p', 'o'], ['s', 'p1', 'o2'], ['s2', 'p2', 'o']] does NOT entail ['Netherlands', 'name', '\"Netherlands\"']\n",
      "[['Netherlands', 'name', '\"Netherlands\"'], ['Netherlands', 'has_capital', 'Amsterdam'], ['Amsterdam', 'type', 'Capital']] does NOT entail ['s2', 'p2', 'o']\n",
      "[['Netherlands', 'name', '\"Netherlands\"'], ['Netherlands', 'has_capital', 'Amsterdam'], ['Amsterdam', 'type', 'Capital']] entails ['Netherlands', 'name', '\"Netherlands\"']\n",
      "[['Netherlands', 'name', '\"Netherlands\"'], ['Netherlands', 'has_capital', 'Amsterdam'], ['Amsterdam', 'type', 'Capital'], ['Capital', 'type', 'City'], ['Netherlands', 'neighbours', 'Belgium'], ['Netherlands', 'type', 'Country']] does NOT entail ['s2', 'p2', 'o']\n",
      "[['Netherlands', 'name', '\"Netherlands\"'], ['Netherlands', 'has_capital', 'Amsterdam'], ['Amsterdam', 'type', 'Capital'], ['Capital', 'type', 'City'], ['Netherlands', 'neighbours', 'Belgium'], ['Netherlands', 'type', 'Country']] entails ['Netherlands', 'name', '\"Netherlands\"']\n"
     ]
    }
   ],
   "source": [
    "triple_e, kb = tripleEntail()\n",
    "\n",
    "for bases in kb:\n",
    "    for triples in triple_e:\n",
    "        if triples in bases:\n",
    "            print(f\"{bases} entails {triples}\")\n",
    "        else:\n",
    "            print(f\"{bases} does NOT entail {triples}\")"
   ]
  },
  {
   "cell_type": "markdown",
   "metadata": {},
   "source": [
    "The expected output is a list of relations between graphs and triples<br />\n",
    "[['s','p','o'],['s','p1','o2'],['s2','p2','o']] entails ['s2','p2','o']<br />\n",
    "[['s','p','o'],['s','p1','o2'],['s2','p2','o']] does NOT entail ['Netherlands','name','\"Netherlands\"']<br />\n",
    "and so on for all graphs and triples. "
   ]
  },
  {
   "cell_type": "markdown",
   "metadata": {},
   "source": [
    "### Task 6: (20 Points) Write a procedure to evaluate whether one Knowledge Graph is entailed by another Knowledge Graph"
   ]
  },
  {
   "cell_type": "markdown",
   "metadata": {},
   "source": [
    "Remember that we can calculate whether a graph is entailed by another graph (w.r.t Simple Knowledge Graph Logic) by simply checking whether the former is a subgraph of the latter.  \n",
    "\n",
    "The graphs, on which you can test your implementations are located in the file: entailedGraphs.txt. Check for all of these graphs whether they are entailed by those in knowledgegraph.txt (which is already opened).\n",
    "\n",
    "You might want to add auxiliary functions in extra cells if necessary."
   ]
  },
  {
   "cell_type": "code",
   "execution_count": 778,
   "metadata": {},
   "outputs": [],
   "source": [
    "def graphEntail():\n",
    "    filename_ = os.path.join(fileDir, 'entailedTriples.txt')\n",
    "    with open(filename_) as file:\n",
    "        content_ = [[t for t in eval(g)] for g in file.readlines()]\n",
    "        \n",
    "    bool_list = []\n",
    "    \n",
    "    for items in content_:\n",
    "        for each_item in items:\n",
    "            if each_item in items:\n",
    "                bool_list.append(True)\n",
    "            else:\n",
    "                bool_list.append(False)\n",
    "    if False in bool_list:\n",
    "        print(f'{content} does not entail {content_}')\n",
    "    else:\n",
    "        print(f'{content} entails {content_}')\n"
   ]
  },
  {
   "cell_type": "markdown",
   "metadata": {},
   "source": [
    "Provide some code to check that your function works correctly.  "
   ]
  },
  {
   "cell_type": "code",
   "execution_count": 779,
   "metadata": {},
   "outputs": [
    {
     "ename": "NameError",
     "evalue": "name 'content_' is not defined",
     "output_type": "error",
     "traceback": [
      "\u001b[1;31m---------------------------------------------------------------------------\u001b[0m",
      "\u001b[1;31mNameError\u001b[0m                                 Traceback (most recent call last)",
      "Cell \u001b[1;32mIn[779], line 1\u001b[0m\n\u001b[1;32m----> 1\u001b[0m \u001b[39mfor\u001b[39;00m graph \u001b[39min\u001b[39;00m content_:\n\u001b[0;32m      2\u001b[0m     \u001b[39mprint\u001b[39m(graphEntail())\n",
      "\u001b[1;31mNameError\u001b[0m: name 'content_' is not defined"
     ]
    }
   ],
   "source": []
  },
  {
   "cell_type": "markdown",
   "metadata": {},
   "source": [
    "The expected output is a list of relations between graphs and graphs<br />\n",
    "[['s','p','o'],['s','p1','o2'],['s2','p2','o']] entails [['s','p','o'],['s2','p2','o']]<br />\n",
    "[['s','p','o'],['s','p1','o2'],['s2','p2','o']] entails [['s2','p2','o'],['s2','p2','o']]<br />\n",
    "[['s','p','o'],['s','p1','o2'],['s2','p2','o']] does NOT entail [['Netherlands','name','\"Netherlands\"'],['Netherlands','has_capital','Amsterdam'],['Capital','a','City'],['Netherlands','neighbours','Belgium']]\n",
    " [['s','p','o'],['s2','p2','o']]<br />\n",
    "and so on for all graphs and triples. "
   ]
  }
 ],
 "metadata": {
  "kernelspec": {
   "display_name": "Python 3 (ipykernel)",
   "language": "python",
   "name": "python3"
  },
  "language_info": {
   "codemirror_mode": {
    "name": "ipython",
    "version": 3
   },
   "file_extension": ".py",
   "mimetype": "text/x-python",
   "name": "python",
   "nbconvert_exporter": "python",
   "pygments_lexer": "ipython3",
   "version": "3.8.8"
  }
 },
 "nbformat": 4,
 "nbformat_minor": 4
}
